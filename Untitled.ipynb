{
 "cells": [
  {
   "cell_type": "code",
   "execution_count": 17,
   "id": "c9e7910a-1742-4467-83f7-6afec2fe5f0f",
   "metadata": {},
   "outputs": [
    {
     "name": "stdout",
     "output_type": "stream",
     "text": [
      "KNN\n",
      "----------------------------------------------------------------\n",
      "   Age Sex ChestPainType  RestingBP  Cholesterol  FastingBS RestingECG  MaxHR  \\\n",
      "0   40   M           ATA        140          289          0     Normal    172   \n",
      "1   49   F           NAP        160          180          0     Normal    156   \n",
      "2   37   M           ATA        130          283          0         ST     98   \n",
      "3   48   F           ASY        138          214          0     Normal    108   \n",
      "4   54   M           NAP        150          195          0     Normal    122   \n",
      "\n",
      "  ExerciseAngina  Oldpeak ST_Slope  HeartDisease  \n",
      "0              N      0.0       Up             0  \n",
      "1              N      1.0     Flat             1  \n",
      "2              N      0.0       Up             0  \n",
      "3              Y      1.5     Flat             1  \n",
      "4              N      0.0       Up             0  \n",
      "Test Accuracy: 0.7283\n",
      "Confusion Matrix:\n",
      "[[88 28]\n",
      " [22 46]]\n",
      "Classification Report:\n",
      "              precision    recall  f1-score   support\n",
      "\n",
      "           N       0.80      0.76      0.78       116\n",
      "           Y       0.62      0.68      0.65        68\n",
      "\n",
      "    accuracy                           0.73       184\n",
      "   macro avg       0.71      0.72      0.71       184\n",
      "weighted avg       0.73      0.73      0.73       184\n",
      "\n"
     ]
    }
   ],
   "source": [
    "print(\"KNN\")\n",
    "print(\"----------------------------------------------------------------\")\n",
    "import pandas as pd\n",
    "from sklearn.model_selection import train_test_split\n",
    "from sklearn.preprocessing import StandardScaler\n",
    "from sklearn.neighbors import KNeighborsClassifier\n",
    "from sklearn.metrics import accuracy_score, confusion_matrix, classification_report\n",
    "from sklearn.metrics import accuracy_score, confusion_matrix, classification_report\n",
    "\n",
    "# Step 1: Load dataset from a local file\n",
    "file_path = \"heart.csv\"  # Update the file path\n",
    "\n",
    "# Load the dataset\n",
    "data = pd.read_csv(file_path)\n",
    "\n",
    "# Display the first few rows of the dataset to ensure it's loaded correctly\n",
    "print(data.head(5))\n",
    "\n",
    "# Step 2: Preprocessing\n",
    "# Assuming 'ExerciseAngina' is the target variable (change this if necessary)\n",
    "X = data.drop(columns=['ExerciseAngina'])  # Input features\n",
    "y = data['ExerciseAngina']  # Target\n",
    "\n",
    "# Convert categorical variables to numeric using one-hot encoding (if applicable)\n",
    "X = pd.get_dummies(X, drop_first=True)\n",
    "\n",
    "# Split the dataset into training and testing sets (80/20 split)\n",
    "X_train, X_test, y_train, y_test = train_test_split(X, y, test_size=0.2, random_state=42)\n",
    "\n",
    "# Step 3: Scale the data using StandardScaler (important for KNN)\n",
    "scaler = StandardScaler()\n",
    "X_train_scaled = scaler.fit_transform(X_train)\n",
    "X_test_scaled = scaler.transform(X_test)\n",
    "\n",
    "# Step 4: Train the KNN model (with n_neighbors=5, you can adjust this value)\n",
    "knn_model = KNeighborsClassifier(n_neighbors=5)\n",
    "knn_model.fit(X_train_scaled, y_train)\n",
    "\n",
    "# Step 5: Evaluate the model\n",
    "y_pred = knn_model.predict(X_test_scaled)\n",
    "\n",
    "accuracy = accuracy_score(y_test, y_pred)\n",
    "print(f\"Test Accuracy: {accuracy:.4f}\")\n",
    "\n",
    "conf_matrix = confusion_matrix(y_test, y_pred)\n",
    "print(\"Confusion Matrix:\")\n",
    "print(conf_matrix)\n",
    "\n",
    "class_report = classification_report(y_test, y_pred)\n",
    "print(\"Classification Report:\")\n",
    "print(class_report)\n"
   ]
  },
  {
   "cell_type": "code",
   "execution_count": 19,
   "id": "58723822-5f64-4d3c-8ae3-d8336727b84d",
   "metadata": {},
   "outputs": [
    {
     "name": "stdout",
     "output_type": "stream",
     "text": [
      "ANN\n",
      "----------------------------------------------------------------\n",
      "   Age Sex ChestPainType  RestingBP  Cholesterol  FastingBS RestingECG  MaxHR  \\\n",
      "0   40   M           ATA        140          289          0     Normal    172   \n",
      "1   49   F           NAP        160          180          0     Normal    156   \n",
      "2   37   M           ATA        130          283          0         ST     98   \n",
      "3   48   F           ASY        138          214          0     Normal    108   \n",
      "4   54   M           NAP        150          195          0     Normal    122   \n",
      "\n",
      "  ExerciseAngina  Oldpeak ST_Slope  HeartDisease  \n",
      "0              N      0.0       Up             0  \n",
      "1              N      1.0     Flat             1  \n",
      "2              N      0.0       Up             0  \n",
      "3              Y      1.5     Flat             1  \n",
      "4              N      0.0       Up             0  \n",
      "Test Accuracy: 0.7609\n",
      "Confusion Matrix:\n",
      "[[94 22]\n",
      " [22 46]]\n",
      "Classification Report:\n",
      "              precision    recall  f1-score   support\n",
      "\n",
      "           N       0.81      0.81      0.81       116\n",
      "           Y       0.68      0.68      0.68        68\n",
      "\n",
      "    accuracy                           0.76       184\n",
      "   macro avg       0.74      0.74      0.74       184\n",
      "weighted avg       0.76      0.76      0.76       184\n",
      "\n"
     ]
    }
   ],
   "source": [
    "print(\"ANN\")\n",
    "print(\"----------------------------------------------------------------\")\n",
    "import pandas as pd\n",
    "from sklearn.model_selection import train_test_split\n",
    "from sklearn.preprocessing import StandardScaler\n",
    "from sklearn.neural_network import MLPClassifier  # Import MLPClassifier for ANN\n",
    "from sklearn.metrics import accuracy_score, confusion_matrix, classification_report\n",
    "\n",
    "# Step 1: Load dataset from a local file\n",
    "file_path = \"heart.csv\"  # Update the file path\n",
    "\n",
    "# Load the dataset\n",
    "data = pd.read_csv(file_path)\n",
    "\n",
    "# Display the first few rows of the dataset to ensure it's loaded correctly\n",
    "print(data.head(5))\n",
    "\n",
    "# Step 2: Preprocessing\n",
    "# Assuming 'ExerciseAngina' is the target variable (change this if necessary)\n",
    "X = data.drop(columns=['ExerciseAngina'])  # Input features\n",
    "y = data['ExerciseAngina']  # Target\n",
    "\n",
    "# Convert categorical variables to numeric using one-hot encoding (if applicable)\n",
    "X = pd.get_dummies(X, drop_first=True)\n",
    "\n",
    "# Split the dataset into training and testing sets (80/20 split)\n",
    "X_train, X_test, y_train, y_test = train_test_split(X, y, test_size=0.2, random_state=42)\n",
    "\n",
    "# Step 3: Scale the data using StandardScaler (important for ANN)\n",
    "scaler = StandardScaler()\n",
    "X_train_scaled = scaler.fit_transform(X_train)\n",
    "X_test_scaled = scaler.transform(X_test)\n",
    "\n",
    "# Step 4: Train the ANN model using MLPClassifier\n",
    "# You can customize the architecture of the neural network by adjusting hidden_layer_sizes, activation function, etc.\n",
    "ann_model = MLPClassifier(hidden_layer_sizes=(100, 50), activation='relu', solver='adam', max_iter=500, random_state=42)\n",
    "ann_model.fit(X_train_scaled, y_train)\n",
    "\n",
    "# Step 5: Evaluate the model\n",
    "y_pred = ann_model.predict(X_test_scaled)\n",
    "\n",
    "accuracy = accuracy_score(y_test, y_pred)\n",
    "print(f\"Test Accuracy: {accuracy:.4f}\")\n",
    "\n",
    "conf_matrix = confusion_matrix(y_test, y_pred)\n",
    "print(\"Confusion Matrix:\")\n",
    "print(conf_matrix)\n",
    "\n",
    "class_report = classification_report(y_test, y_pred)\n",
    "print(\"Classification Report:\")\n",
    "print(class_report)\n"
   ]
  },
  {
   "cell_type": "code",
   "execution_count": 25,
   "id": "91a54135-fc28-44a3-9684-0bd35deadce6",
   "metadata": {},
   "outputs": [
    {
     "name": "stdout",
     "output_type": "stream",
     "text": [
      "SVM\n",
      "----------------------------------------------------------------\n",
      "   Age Sex ChestPainType  RestingBP  Cholesterol  FastingBS RestingECG  MaxHR  \\\n",
      "0   40   M           ATA        140          289          0     Normal    172   \n",
      "1   49   F           NAP        160          180          0     Normal    156   \n",
      "2   37   M           ATA        130          283          0         ST     98   \n",
      "3   48   F           ASY        138          214          0     Normal    108   \n",
      "4   54   M           NAP        150          195          0     Normal    122   \n",
      "\n",
      "  ExerciseAngina  Oldpeak ST_Slope  HeartDisease  \n",
      "0              N      0.0       Up             0  \n",
      "1              N      1.0     Flat             1  \n",
      "2              N      0.0       Up             0  \n",
      "3              Y      1.5     Flat             1  \n",
      "4              N      0.0       Up             0  \n",
      "Test Accuracy: 0.7717\n",
      "Confusion Matrix:\n",
      "[[92 24]\n",
      " [18 50]]\n",
      "Classification Report:\n",
      "              precision    recall  f1-score   support\n",
      "\n",
      "           N       0.84      0.79      0.81       116\n",
      "           Y       0.68      0.74      0.70        68\n",
      "\n",
      "    accuracy                           0.77       184\n",
      "   macro avg       0.76      0.76      0.76       184\n",
      "weighted avg       0.78      0.77      0.77       184\n",
      "\n"
     ]
    }
   ],
   "source": [
    "print(\"SVM\")\n",
    "print(\"----------------------------------------------------------------\")\n",
    "import pandas as pd\n",
    "from sklearn.model_selection import train_test_split\n",
    "from sklearn.preprocessing import StandardScaler\n",
    "from sklearn.svm import SVC\n",
    "from sklearn.metrics import accuracy_score, confusion_matrix, classification_report\n",
    "\n",
    "# Step 1: Load dataset from a local file\n",
    "file_path = \"heart.csv\"  # Update the file path\n",
    "\n",
    "# Load the dataset\n",
    "data = pd.read_csv(file_path)\n",
    "\n",
    "# Display the first few rows of the dataset to ensure it's loaded correctly\n",
    "print(data.head(5))\n",
    "\n",
    "# Step 2: Preprocessing\n",
    "# Assuming 'ExerciseAngina' is the target variable (change this if necessary)\n",
    "X = data.drop(columns=['ExerciseAngina'])  # Input features\n",
    "y = data['ExerciseAngina']  # Target\n",
    "\n",
    "# Convert categorical variables to numeric using one-hot encoding (if applicable)\n",
    "X = pd.get_dummies(X, drop_first=True)\n",
    "\n",
    "# Split the dataset into training and testing sets (80/20 split)\n",
    "X_train, X_test, y_train, y_test = train_test_split(X, y, test_size=0.2, random_state=42)\n",
    "\n",
    "# Step 3: Scale the data using StandardScaler (important for SVM)\n",
    "scaler = StandardScaler()\n",
    "X_train_scaled = scaler.fit_transform(X_train)\n",
    "X_test_scaled = scaler.transform(X_test)\n",
    "\n",
    "# Step 4: Train the SVM model\n",
    "svm_model = SVC(kernel='linear', random_state=42)\n",
    "svm_model.fit(X_train_scaled, y_train)\n",
    "\n",
    "# Step 5: Evaluate the model\n",
    "y_pred = svm_model.predict(X_test_scaled)\n",
    "\n",
    "accuracy = accuracy_score(y_test, y_pred)\n",
    "print(f\"Test Accuracy: {accuracy:.4f}\")\n",
    "\n",
    "conf_matrix = confusion_matrix(y_test, y_pred)\n",
    "print(\"Confusion Matrix:\")\n",
    "print(conf_matrix)\n",
    "\n",
    "class_report = classification_report(y_test, y_pred)\n",
    "print(\"Classification Report:\")\n",
    "print(class_report)"
   ]
  },
  {
   "cell_type": "code",
   "execution_count": 66,
   "id": "081ed909-5d93-4c1d-94c8-315e30d463b2",
   "metadata": {},
   "outputs": [
    {
     "name": "stdout",
     "output_type": "stream",
     "text": [
      "   Age Sex ChestPainType  RestingBP  Cholesterol  FastingBS RestingECG  MaxHR  \\\n",
      "0   40   M           ATA        140          289          0     Normal    172   \n",
      "1   49   F           NAP        160          180          0     Normal    156   \n",
      "2   37   M           ATA        130          283          0         ST     98   \n",
      "3   48   F           ASY        138          214          0     Normal    108   \n",
      "4   54   M           NAP        150          195          0     Normal    122   \n",
      "\n",
      "  ExerciseAngina  Oldpeak ST_Slope  HeartDisease  \n",
      "0              N      0.0       Up             0  \n",
      "1              N      1.0     Flat             1  \n",
      "2              N      0.0       Up             0  \n",
      "3              Y      1.5     Flat             1  \n",
      "4              N      0.0       Up             0  \n"
     ]
    }
   ],
   "source": [
    "# Importing necessary libraries\n",
    "import numpy as np\n",
    "import pandas as pd\n",
    "from sklearn.model_selection import train_test_split\n",
    "from sklearn.linear_model import LinearRegression\n",
    "from sklearn.metrics import mean_squared_error, r2_score\n",
    "\n",
    "# Load the dataset from heart.csv\n",
    "data = pd.read_csv('heart.csv')\n",
    "\n",
    "print(data.head(5))"
   ]
  },
  {
   "cell_type": "code",
   "execution_count": 19,
   "id": "0b371c09-0c99-4f42-b9b5-3761810fc245",
   "metadata": {},
   "outputs": [
    {
     "name": "stdout",
     "output_type": "stream",
     "text": [
      "Index(['Age', 'Sex', 'ChestPainType', 'RestingBP', 'Cholesterol', 'FastingBS',\n",
      "       'RestingECG', 'MaxHR', 'ExerciseAngina', 'Oldpeak', 'ST_Slope',\n",
      "       'HeartDisease'],\n",
      "      dtype='object')\n"
     ]
    },
    {
     "data": {
      "image/png": "[encoded data removed]",
      "text/plain": [
       "<Figure size 640x480 with 1 Axes>"
      ]
     },
     "metadata": {},
     "output_type": "display_data"
    }
   ],
   "source": [
    "import pandas as pd\n",
    "import matplotlib.pyplot as plt\n",
    "\n",
    "# Print column names to verify\n",
    "print(data.columns)\n",
    "\n",
    "# Clean column names by stripping any leading/trailing spaces\n",
    "data.columns = data.columns.str.strip()\n",
    "\n",
    "# Extract relevant columns\n",
    "age = data['Age']\n",
    "oldpeak = data['Oldpeak']  # Replace 'Ejection Fraction' with 'Oldpeak'\n",
    "\n",
    "# Create a scatter plot\n",
    "plt.scatter(age, oldpeak, color='g', label='Data Points')\n",
    "plt.xlabel('Age')\n",
    "plt.ylabel('Oldpeak')\n",
    "plt.title('Oldpeak vs. Age')\n",
    "plt.legend()\n",
    "plt.grid(True)\n",
    "plt.show()\n"
   ]
  },
  {
   "cell_type": "code",
   "execution_count": 21,
   "id": "3d598253-ee9d-4815-b397-e30c6e625971",
   "metadata": {},
   "outputs": [
    {
     "name": "stdout",
     "output_type": "stream",
     "text": [
      "Training features:\n",
      "     Age\n",
      "795   42\n",
      "25    36\n",
      "84    56\n",
      "10    37\n",
      "344   51\n",
      "..   ...\n",
      "106   48\n",
      "270   45\n",
      "860   60\n",
      "435   60\n",
      "102   40\n",
      "\n",
      "[734 rows x 1 columns]\n",
      "Training labels:\n",
      "795    0\n",
      "25     0\n",
      "84     1\n",
      "10     0\n",
      "344    1\n",
      "      ..\n",
      "106    0\n",
      "270    0\n",
      "860    1\n",
      "435    0\n",
      "102    1\n",
      "Name: HeartDisease, Length: 734, dtype: int64\n",
      "Testing features:\n",
      "     Age\n",
      "668   63\n",
      "30    53\n",
      "377   65\n",
      "535   56\n",
      "807   54\n",
      "..   ...\n",
      "211   50\n",
      "745   63\n",
      "584   64\n",
      "878   49\n",
      "451   64\n",
      "\n",
      "[184 rows x 1 columns]\n",
      "Testing labels:\n",
      "668    0\n",
      "30     1\n",
      "377    1\n",
      "535    1\n",
      "807    0\n",
      "      ..\n",
      "211    1\n",
      "745    1\n",
      "584    1\n",
      "878    0\n",
      "451    1\n",
      "Name: HeartDisease, Length: 184, dtype: int64\n"
     ]
    }
   ],
   "source": [
    "import pandas as pd\n",
    "from sklearn.model_selection import train_test_split\n",
    "\n",
    "# Load the dataset from heart.csv\n",
    "data = pd.read_csv('heart.csv')\n",
    "\n",
    "# Clean column names by stripping any leading/trailing spaces\n",
    "data.columns = data.columns.str.strip()\n",
    "\n",
    "# Select features and target variable\n",
    "X = data[['Age']]  # Using 'Age' as the feature; if you have more features, add them here\n",
    "y = data['HeartDisease']  # Target variable\n",
    "\n",
    "# Split the dataset into training and testing sets (80% train, 20% test)\n",
    "X_train, X_test, y_train, y_test = train_test_split(X, y, test_size=0.2, random_state=42)\n",
    "\n",
    "print(\"Training features:\")\n",
    "print(X_train)\n",
    "print(\"Training labels:\")\n",
    "print(y_train)\n",
    "\n",
    "print(\"Testing features:\")\n",
    "print(X_test)\n",
    "print(\"Testing labels:\")\n",
    "print(y_test)\n"
   ]
  },
  {
   "cell_type": "code",
   "execution_count": 25,
   "id": "de2471e8-0884-4727-915d-46411dc48437",
   "metadata": {},
   "outputs": [
    {
     "name": "stdout",
     "output_type": "stream",
     "text": [
      "Formatted X_test:\n",
      "['63.00', '53.00', '65.00', '56.00', '54.00', '67.00', '56.00', '69.00', '46.00', '58.00', '56.00', '62.00', '64.00', '56.00', '57.00', '41.00', '64.00', '57.00', '39.00', '67.00', '67.00', '48.00', '40.00', '58.00', '74.00', '46.00', '48.00', '69.00', '44.00', '32.00', '52.00', '40.00', '63.00', '43.00', '56.00', '37.00', '52.00', '47.00', '62.00', '57.00', '67.00', '44.00', '76.00', '53.00', '60.00', '51.00', '44.00', '56.00', '53.00', '51.00', '54.00', '34.00', '55.00', '50.00', '48.00', '61.00', '59.00', '64.00', '63.00', '44.00', '57.00', '60.00', '43.00', '65.00', '28.00', '51.00', '65.00', '43.00', '64.00', '45.00', '40.00', '48.00', '63.00', '53.00', '53.00', '38.00', '58.00', '60.00', '34.00', '50.00', '65.00', '56.00', '51.00', '49.00', '55.00', '60.00', '56.00', '62.00', '45.00', '38.00', '73.00', '50.00', '56.00', '46.00', '39.00', '55.00', '43.00', '74.00', '40.00', '51.00', '39.00', '54.00', '32.00', '50.00', '58.00', '52.00', '30.00', '51.00', '59.00', '40.00', '54.00', '56.00', '54.00', '44.00', '53.00', '35.00', '47.00', '55.00', '61.00', '52.00', '61.00', '57.00', '32.00', '59.00', '56.00', '43.00', '63.00', '47.00', '42.00', '66.00', '52.00', '48.00', '48.00', '59.00', '56.00', '63.00', '62.00', '46.00', '37.00', '68.00', '59.00', '62.00', '52.00', '60.00', '63.00', '53.00', '41.00', '65.00', '58.00', '58.00', '44.00', '57.00', '64.00', '50.00', '41.00', '56.00', '47.00', '44.00', '45.00', '48.00', '39.00', '35.00', '59.00', '56.00', '63.00', '51.00', '56.00', '63.00', '51.00', '59.00', '55.00', '56.00', '39.00', '52.00', '54.00', '57.00', '40.00', '67.00', '39.00', '50.00', '63.00', '64.00', '49.00', '64.00']\n",
      "Formatted y_pred:\n",
      "['0.70', '0.54', '0.73', '0.58', '0.55', '0.76', '0.58', '0.79', '0.42', '0.62', '0.58', '0.68', '0.71', '0.58', '0.60', '0.34', '0.71', '0.60', '0.31', '0.76', '0.76', '0.46', '0.33', '0.62', '0.87', '0.42', '0.46', '0.79', '0.39', '0.20', '0.52', '0.33', '0.70', '0.38', '0.58', '0.28', '0.52', '0.44', '0.68', '0.60', '0.76', '0.39', '0.90', '0.54', '0.65', '0.50', '0.39', '0.58', '0.54', '0.50', '0.55', '0.23', '0.57', '0.49', '0.46', '0.66', '0.63', '0.71', '0.70', '0.39', '0.60', '0.65', '0.38', '0.73', '0.14', '0.50', '0.73', '0.38', '0.71', '0.41', '0.33', '0.46', '0.70', '0.54', '0.54', '0.30', '0.62', '0.65', '0.23', '0.49', '0.73', '0.58', '0.50', '0.47', '0.57', '0.65', '0.58', '0.68', '0.41', '0.30', '0.85', '0.49', '0.58', '0.42', '0.31', '0.57', '0.38', '0.87', '0.33', '0.50', '0.31', '0.55', '0.20', '0.49', '0.62', '0.52', '0.17', '0.50', '0.63', '0.33', '0.55', '0.58', '0.55', '0.39', '0.54', '0.25', '0.44', '0.57', '0.66', '0.52', '0.66', '0.60', '0.20', '0.63', '0.58', '0.38', '0.70', '0.44', '0.36', '0.74', '0.52', '0.46', '0.46', '0.63', '0.58', '0.70', '0.68', '0.42', '0.28', '0.77', '0.63', '0.68', '0.52', '0.65', '0.70', '0.54', '0.34', '0.73', '0.62', '0.62', '0.39', '0.60', '0.71', '0.49', '0.34', '0.58', '0.44', '0.39', '0.41', '0.46', '0.31', '0.25', '0.63', '0.58', '0.70', '0.50', '0.58', '0.70', '0.50', '0.63', '0.57', '0.58', '0.31', '0.52', '0.55', '0.60', '0.33', '0.76', '0.31', '0.49', '0.70', '0.71', '0.47', '0.71']\n",
      "Mean Squared Error: 0.24\n",
      "R^2 Score: 0.03\n"
     ]
    }
   ],
   "source": [
    "# Create the linear regression model\n",
    "model = LinearRegression()\n",
    "\n",
    "# Train the model using the training data\n",
    "model.fit(X_train, y_train)\n",
    "\n",
    "# Make predictions on the test data\n",
    "y_pred = model.predict(X_test)\n",
    "\n",
    "# Formatting X_test for better readability\n",
    "formatted_X_test = [\"%.2f\" % x[0] for x in X_test.values]\n",
    "print(\"Formatted X_test:\")\n",
    "print(formatted_X_test)\n",
    "\n",
    "# Formatting y_pred for better readability\n",
    "formatted_y_pred = [\"%.2f\" % y for y in y_pred]\n",
    "print(\"Formatted y_pred:\")\n",
    "print(formatted_y_pred)\n",
    "\n",
    "# Evaluate the model\n",
    "mse = mean_squared_error(y_test, y_pred)\n",
    "r2 = r2_score(y_test, y_pred)\n",
    "\n",
    "print(f\"Mean Squared Error: {mse:.2f}\")\n",
    "print(f\"R^2 Score: {r2:.2f}\")"
   ]
  },
  {
   "cell_type": "code",
   "execution_count": 36,
   "id": "673b43ef-5050-4db6-a1cd-6fd55078aa0f",
   "metadata": {},
   "outputs": [
    {
     "name": "stdout",
     "output_type": "stream",
     "text": [
      "Coefficient: 0.015928914976518844\n",
      "Intercept: -0.3082842939718148\n",
      "Linear Regression Equation: y = -0.31 + 0.02 * X\n"
     ]
    }
   ],
   "source": [
    "# Print the coefficients\n",
    "print(\"Coefficient:\", model.coef_[0])\n",
    "print(\"Intercept:\", model.intercept_)\n",
    "\n",
    "# Construct the equation string\n",
    "equation = f\"y = {model.intercept_:.2f} + {model.coef_[0]:.2f} * X\"\n",
    "print(\"Linear Regression Equation:\", equation)"
   ]
  },
  {
   "cell_type": "code",
   "execution_count": 40,
   "id": "09936e18-56e3-44f1-8eba-fb59c808bb7d",
   "metadata": {},
   "outputs": [
    {
     "name": "stdout",
     "output_type": "stream",
     "text": [
      "Mean Squared Error: 0.24\n"
     ]
    }
   ],
   "source": [
    "from sklearn.metrics import mean_squared_error\n",
    "\n",
    "# Calculate the Mean Squared Error (MSE) as a measure of the model's performance\n",
    "mse = mean_squared_error(y_test, y_pred)\n",
    "\n",
    "# Display the MSE with two decimal places using string formatting\n",
    "formatted_mse = \"%.2f\" % mse\n",
    "print(f\"Mean Squared Error: {formatted_mse}\")"
   ]
  },
  {
   "cell_type": "code",
   "execution_count": 88,
   "id": "8c10b649-927a-4765-920f-5fab5e42cc94",
   "metadata": {},
   "outputs": [
    {
     "name": "stdin",
     "output_type": "stream",
     "text": [
      "Enter age: 64\n"
     ]
    },
    {
     "name": "stdout",
     "output_type": "stream",
     "text": [
      "Predicted Heart Disease Probability: 71.12%\n",
      "Prediction: Heart Failure\n"
     ]
    }
   ],
   "source": [
    "import numpy as np\n",
    "import pandas as pd\n",
    "\n",
    "# Assuming you have a single unseen data point represented as an integer or float\n",
    "unseen_data = float(input(\"Enter age:\"))  # Replace \"Enter age\" with the relevant feature prompt\n",
    "\n",
    "# Create a DataFrame with the same column name as used in training\n",
    "unseen_data_df = pd.DataFrame([[unseen_data]], columns=['Age'])\n",
    "\n",
    "# Predict the target value for the unseen data point\n",
    "predicted_value = model.predict(unseen_data_df)\n",
    "\n",
    "# Convert the predicted probability to a percentage\n",
    "predicted_percentage = predicted_value[0] * 100\n",
    "\n",
    "# Determine if the prediction indicates heart failure\n",
    "threshold = 0.7  # Define your threshold (50% here)\n",
    "prediction_result = \"Heart Failure\" if predicted_value[0] >= threshold else \"No Heart Failure\"\n",
    "\n",
    "# Print the predicted value as a percentage and the prediction result\n",
    "print(f\"Predicted Heart Disease Probability: {predicted_percentage:.2f}%\")\n",
    "print(f\"Prediction: {prediction_result}\")\n"
   ]
  },
  {
   "cell_type": "code",
   "execution_count": 96,
   "id": "29af632e-35b8-4e0c-928d-bcf00fc09eaa",
   "metadata": {},
   "outputs": [],
   "source": [
    "from joblib import dump, load"
   ]
  },
  {
   "cell_type": "code",
   "execution_count": 159,
   "id": "7847ef0f-7130-4d6d-9095-4454b6c9ac3f",
   "metadata": {},
   "outputs": [
    {
     "data": {
      "text/plain": [
       "['heart_failure_model.joblib']"
      ]
     },
     "execution_count": 159,
     "metadata": {},
     "output_type": "execute_result"
    }
   ],
   "source": [
    "dump(model, 'heart_failure_model.joblib')"
   ]
  },
  {
   "cell_type": "code",
   "execution_count": 161,
   "id": "ce648915-00a5-4005-9d12-fc56a66de712",
   "metadata": {},
   "outputs": [
    {
     "name": "stdin",
     "output_type": "stream",
     "text": [
      "Enter age: 35\n"
     ]
    },
    {
     "name": "stdout",
     "output_type": "stream",
     "text": [
      "Predicted Heart Disease Probability: 24.92%\n",
      "Prediction: No Heart Disease\n"
     ]
    }
   ],
   "source": [
    "model = load('heart_failure_model.joblib')\n",
    "\n",
    "# Prompt the user for input related to the feature used for prediction\n",
    "user_input = float(input(\"Enter age:\"))  # Replace \"Enter age\" with the relevant feature prompt\n",
    "\n",
    "# Create a DataFrame with the same column name as used in training\n",
    "input_df = pd.DataFrame([[user_input]], columns=['Age'])\n",
    "\n",
    "# Predict the probability for heart disease\n",
    "predicted_probability = model.predict(input_df)\n",
    "\n",
    "# Convert the predicted probability to a percentage\n",
    "predicted_percentage = predicted_probability[0] * 100\n",
    "\n",
    "# Determine if the prediction indicates heart disease\n",
    "threshold = 0.7  # Define your threshold (50% here)\n",
    "prediction_result = \"Heart Disease\" if predicted_probability[0] >= threshold else \"No Heart Disease\"\n",
    "\n",
    "# Print the predicted probability and the prediction result\n",
    "print(f\"Predicted Heart Disease Probability: {predicted_percentage:.2f}%\")\n",
    "print(f\"Prediction: {prediction_result}\")"
   ]
  },
  {
   "cell_type": "code",
   "execution_count": 163,
   "id": "101ac91b-1b67-4eb9-a76d-76366592eb0b",
   "metadata": {},
   "outputs": [],
   "source": [
    "import streamlit as st\n",
    "from joblib import load\n",
    "import pandas as pd\n",
    "import numpy as np\n",
    "\n",
    "# Load the model\n",
    "model = load('heart_failure_model.joblib')\n",
    "\n",
    "# Create a user input field for the feature\n",
    "user_input = st.number_input('Enter age:', min_value=0, max_value=120, step=1)\n",
    "\n",
    "# Create a DataFrame with the same column name as used in training\n",
    "input_df = pd.DataFrame([[user_input]], columns=['Age'])\n",
    "\n",
    "# Predict the probability of heart disease\n",
    "if st.button('Predict Heart Disease Probability'):\n",
    "    predicted_probability = model.predict(input_df)\n",
    "    predicted_percentage = predicted_probability[0] * 100\n",
    "\n",
    "    # Determine the prediction result\n",
    "    threshold = 0.5  # Define your threshold (50% here)\n",
    "    prediction_result = \"Heart Disease\" if predicted_probability[0] >= threshold else \"No Heart Disease\"\n",
    "\n",
    "    # Display the results\n",
    "    st.write(f\"Predicted Heart Disease Probability: {predicted_percentage:.2f}%\")\n",
    "    st.write(f\"Prediction: {prediction_result}\")\n"
   ]
  },
  {
   "cell_type": "markdown",
   "id": "d4556ed0-c889-45bb-b6a9-494d21d3a4e7",
   "metadata": {},
   "source": [
    "Vectorize the feature"
   ]
  },
  {
   "cell_type": "code",
   "execution_count": 120,
   "id": "4ab50fdf-e1de-4f59-bcb7-ae07a05d1682",
   "metadata": {},
   "outputs": [
    {
     "name": "stdout",
     "output_type": "stream",
     "text": [
      "(918, 9)\n"
     ]
    }
   ],
   "source": [
    "from sklearn.preprocessing import OneHotEncoder\n",
    "import pandas as pd\n",
    "\n",
    "# Load the dataset\n",
    "data = pd.read_csv('heart.csv')\n",
    "\n",
    "# Select the categorical feature(s) for encoding (e.g., 'Sex', 'ChestPainType', 'RestingECG', 'ExerciseAngina', 'ST_Slope')\n",
    "categorical_features = ['Sex', 'ChestPainType', 'RestingECG', 'ExerciseAngina', 'ST_Slope']\n",
    "\n",
    "# Initialize OneHotEncoder\n",
    "encoder = OneHotEncoder(sparse_output=False, drop='first')  # Use sparse_output instead of sparse\n",
    "\n",
    "# Fit and transform on the dataset (assuming data is split into train and test sets)\n",
    "X_encoded = encoder.fit_transform(data[categorical_features])\n",
    "\n",
    "# Print the dimensions of the encoded data\n",
    "print(X_encoded.shape)\n"
   ]
  },
  {
   "cell_type": "markdown",
   "id": "8cba86ff-1508-4a8c-b3c9-4e9c8284072f",
   "metadata": {},
   "source": [
    "SVM"
   ]
  },
  {
   "cell_type": "code",
   "execution_count": 136,
   "id": "a175a4c7-7399-4622-a876-44da6465e323",
   "metadata": {},
   "outputs": [
    {
     "name": "stdout",
     "output_type": "stream",
     "text": [
      "[0 1 1 1 0 1 1 1 1 1 1 1 1 1 1 1 0 1 1 1 1 1 0 1 1 1 0 1 0 0 1 1 1 1 1 1 1\n",
      " 0 1 1 1 1 1 0 0 1 1 1 1 1 0 0 1 1 1 1 1 1 1 1 1 1 0 1 0 1 1 1 1 1 1 0 1 1\n",
      " 1 1 1 1 0 1 1 1 1 0 1 1 1 1 0 0 1 1 1 1 1 0 1 1 1 1 0 1 1 0 1 1 0 1 1 1 1\n",
      " 1 0 1 1 0 1 1 1 1 1 1 0 1 0 0 0 1 0 1 1 1 1 1 1 1 1 1 0 1 1 1 1 1 1 1 1 0\n",
      " 1 1 0 1 1 0 1 1 0 1 0 1 0 0 1 0 1 1 1 1 0 1 1 1 0 1 0 1 1 1 0 1 1 1 0 1]\n"
     ]
    },
    {
     "name": "stderr",
     "output_type": "stream",
     "text": [
      "C:\\Users\\kenna\\anaconda3\\Lib\\site-packages\\sklearn\\svm\\_base.py:1237: ConvergenceWarning: Liblinear failed to converge, increase the number of iterations.\n",
      "  warnings.warn(\n"
     ]
    }
   ],
   "source": [
    "from sklearn.svm import LinearSVC\n",
    "from sklearn.preprocessing import OneHotEncoder\n",
    "import pandas as pd\n",
    "\n",
    "# Load the dataset\n",
    "data = pd.read_csv('heart.csv')\n",
    "\n",
    "# Select features and target variable\n",
    "features = ['Age', 'Sex', 'ChestPainType', 'RestingECG', 'ExerciseAngina', 'ST_Slope']  # Adjust as necessary\n",
    "target = 'HeartDisease'\n",
    "\n",
    "# Prepare the features and target\n",
    "X = data[features]\n",
    "y = data[target]\n",
    "\n",
    "# Initialize and fit OneHotEncoder for categorical features\n",
    "encoder = OneHotEncoder(sparse_output=False, drop='first')\n",
    "X_encoded = encoder.fit_transform(X[['Sex', 'ChestPainType', 'RestingECG', 'ExerciseAngina', 'ST_Slope']])\n",
    "X_encoded = pd.DataFrame(X_encoded, columns=encoder.get_feature_names_out())\n",
    "\n",
    "# Combine encoded features with numerical features\n",
    "X_combined = pd.concat([X[['Age']], X_encoded], axis=1)\n",
    "\n",
    "# Split the dataset into training and testing sets\n",
    "from sklearn.model_selection import train_test_split\n",
    "X_train, X_test, y_train, y_test = train_test_split(X_combined, y, test_size=0.2, random_state=42)\n",
    "\n",
    "# Initialize LinearSVC\n",
    "svc = LinearSVC(dual=True)\n",
    "\n",
    "# Train the model\n",
    "svc.fit(X_train, y_train)\n",
    "\n",
    "# Predict using the trained model\n",
    "y_pred_svm = svc.predict(X_test)\n",
    "\n",
    "# Output predictions\n",
    "print(y_pred_svm)\n"
   ]
  },
  {
   "cell_type": "markdown",
   "id": "95f1fb86-1abd-4369-844c-18d2b0d3c2e1",
   "metadata": {},
   "source": [
    "KNN"
   ]
  },
  {
   "cell_type": "code",
   "execution_count": 141,
   "id": "dcc0cb0a-bc2e-4819-97a4-de2de0475232",
   "metadata": {},
   "outputs": [
    {
     "name": "stdout",
     "output_type": "stream",
     "text": [
      "[0 1 1 1 0 1 1 0 1 1 1 0 1 0 1 0 0 0 1 0 1 1 0 1 1 1 0 1 0 0 1 0 1 1 1 0 1\n",
      " 0 1 1 1 1 1 0 0 1 0 1 1 0 0 0 1 1 0 1 0 1 1 1 0 1 0 1 0 1 1 1 1 1 0 0 1 1\n",
      " 1 1 1 1 1 0 0 1 1 0 1 1 0 1 0 0 0 1 1 0 1 0 1 1 1 0 0 1 0 0 0 1 0 0 1 0 1\n",
      " 1 0 0 1 0 0 0 1 1 1 1 0 1 0 0 0 1 0 0 0 1 1 0 1 0 1 1 0 0 1 1 1 1 1 1 1 0\n",
      " 0 1 0 1 1 0 0 0 0 0 0 1 0 0 1 0 1 1 1 1 0 1 1 1 0 1 0 1 0 1 0 1 1 1 0 1]\n"
     ]
    }
   ],
   "source": [
    "from sklearn.neighbors import KNeighborsClassifier\n",
    "from sklearn.preprocessing import OneHotEncoder\n",
    "import pandas as pd\n",
    "from sklearn.model_selection import train_test_split\n",
    "\n",
    "# Load the dataset\n",
    "data = pd.read_csv('heart.csv')\n",
    "\n",
    "# Select features and target variable\n",
    "features = ['Age', 'Sex', 'ChestPainType', 'RestingECG', 'ExerciseAngina', 'ST_Slope']\n",
    "target = 'HeartDisease'\n",
    "\n",
    "# Prepare the features and target\n",
    "X = data[features]\n",
    "y = data[target]\n",
    "\n",
    "# Initialize and fit OneHotEncoder for categorical features\n",
    "encoder = OneHotEncoder(sparse_output=False, drop='first')\n",
    "X_encoded = encoder.fit_transform(X[['Sex', 'ChestPainType', 'RestingECG', 'ExerciseAngina', 'ST_Slope']])\n",
    "X_encoded = pd.DataFrame(X_encoded, columns=encoder.get_feature_names_out())\n",
    "\n",
    "# Combine encoded features with numerical features\n",
    "X_combined = pd.concat([X[['Age']], X_encoded], axis=1)\n",
    "\n",
    "# Split the dataset into training and testing sets\n",
    "X_train, X_test, y_train, y_test = train_test_split(X_combined, y, test_size=0.2, random_state=42)\n",
    "\n",
    "# Initialize KNeighborsClassifier\n",
    "knn = KNeighborsClassifier()\n",
    "\n",
    "# Train the model\n",
    "knn.fit(X_train, y_train)\n",
    "\n",
    "# Predict using the trained model\n",
    "y_pred_knn = knn.predict(X_test)\n",
    "\n",
    "# Output predictions\n",
    "print(y_pred_knn)\n"
   ]
  },
  {
   "cell_type": "markdown",
   "id": "52263438-4479-415c-a8e8-c22f4912abf6",
   "metadata": {},
   "source": [
    "ANN"
   ]
  },
  {
   "cell_type": "code",
   "execution_count": 146,
   "id": "a126fc5e-bd1c-491d-afa3-2a867a5df072",
   "metadata": {},
   "outputs": [
    {
     "name": "stdout",
     "output_type": "stream",
     "text": [
      "[0 1 1 1 0 1 1 0 1 1 1 0 1 0 1 0 0 1 1 0 1 1 0 1 1 1 0 0 0 0 1 0 1 1 1 0 1\n",
      " 0 1 1 1 1 1 0 0 1 1 1 1 0 0 0 1 1 1 0 0 1 1 1 0 0 0 1 0 1 1 1 1 1 0 0 0 1\n",
      " 0 1 0 1 0 1 0 1 1 0 1 1 0 1 0 0 0 1 1 0 1 0 1 0 1 0 0 1 1 0 0 1 0 0 1 0 1\n",
      " 1 0 0 1 0 0 0 1 1 1 1 0 1 0 0 0 0 0 0 0 1 1 0 1 0 1 1 0 0 0 0 1 1 1 1 1 0\n",
      " 0 0 0 1 1 0 1 0 0 0 0 1 0 0 1 0 1 1 0 1 0 0 1 1 0 1 0 1 0 1 0 1 1 1 0 1]\n"
     ]
    }
   ],
   "source": [
    "from sklearn.neural_network import MLPClassifier\n",
    "from sklearn.preprocessing import OneHotEncoder\n",
    "import pandas as pd\n",
    "from sklearn.model_selection import train_test_split\n",
    "\n",
    "# Load the dataset\n",
    "data = pd.read_csv('heart.csv')\n",
    "\n",
    "# Select features and target variable\n",
    "features = ['Age', 'Sex', 'ChestPainType', 'RestingECG', 'ExerciseAngina', 'ST_Slope']\n",
    "target = 'HeartDisease'\n",
    "\n",
    "# Prepare the features and target\n",
    "X = data[features]\n",
    "y = data[target]\n",
    "\n",
    "# Initialize and fit OneHotEncoder for categorical features\n",
    "encoder = OneHotEncoder(sparse_output=False, drop='first')\n",
    "X_encoded = encoder.fit_transform(X[['Sex', 'ChestPainType', 'RestingECG', 'ExerciseAngina', 'ST_Slope']])\n",
    "X_encoded = pd.DataFrame(X_encoded, columns=encoder.get_feature_names_out())\n",
    "\n",
    "# Combine encoded features with numerical features\n",
    "X_combined = pd.concat([X[['Age']], X_encoded], axis=1)\n",
    "\n",
    "# Split the dataset into training and testing sets\n",
    "X_train, X_test, y_train, y_test = train_test_split(X_combined, y, test_size=0.2, random_state=42)\n",
    "\n",
    "# Initialize MLPClassifier\n",
    "ann = MLPClassifier(hidden_layer_sizes=(100,), max_iter=500, random_state=42)\n",
    "\n",
    "# Train the model\n",
    "ann.fit(X_train, y_train)\n",
    "\n",
    "# Predict using the trained model\n",
    "y_pred_ann = ann.predict(X_test)\n",
    "\n",
    "# Output predictions\n",
    "print(y_pred_ann)\n"
   ]
  },
  {
   "cell_type": "markdown",
   "id": "623b423e-95e5-455e-ae96-9c7c4b3ffb2b",
   "metadata": {},
   "source": [
    "Decision Tree"
   ]
  },
  {
   "cell_type": "code",
   "execution_count": 153,
   "id": "8b2fb272-ada7-478c-a8fe-c5e3ff7aaf57",
   "metadata": {},
   "outputs": [
    {
     "name": "stdout",
     "output_type": "stream",
     "text": [
      "[0 1 1 1 0 1 1 0 1 1 1 0 1 0 1 0 0 0 1 0 1 1 0 1 1 1 0 0 0 0 1 0 0 1 1 0 1\n",
      " 0 1 1 1 1 0 0 0 1 0 1 1 0 0 0 1 1 0 0 1 1 1 1 0 1 0 1 0 1 1 1 1 1 1 0 1 0\n",
      " 0 1 0 1 1 0 0 1 0 0 1 1 0 0 0 0 1 1 1 0 1 0 1 1 1 0 0 1 1 0 1 1 1 0 0 0 1\n",
      " 1 0 1 1 0 0 0 1 0 1 0 1 1 0 0 0 0 0 0 1 1 1 0 1 1 0 1 0 0 1 0 1 1 1 1 0 0\n",
      " 1 0 0 0 1 0 1 0 0 0 0 1 0 0 1 0 1 1 0 1 0 1 1 0 0 1 0 1 0 1 0 1 1 1 0 1]\n"
     ]
    }
   ],
   "source": [
    "from sklearn.tree import DecisionTreeClassifier\n",
    "from sklearn.preprocessing import OneHotEncoder\n",
    "import pandas as pd\n",
    "from sklearn.model_selection import train_test_split\n",
    "\n",
    "# Load the dataset\n",
    "data = pd.read_csv('heart.csv')\n",
    "\n",
    "# Select features and target variable\n",
    "features = ['Age', 'Sex', 'ChestPainType', 'RestingECG', 'ExerciseAngina', 'ST_Slope']\n",
    "target = 'HeartDisease'\n",
    "\n",
    "# Prepare the features and target\n",
    "X = data[features]\n",
    "y = data[target]\n",
    "\n",
    "# Initialize and fit OneHotEncoder for categorical features\n",
    "encoder = OneHotEncoder(sparse_output=False, drop='first')\n",
    "X_encoded = encoder.fit_transform(X[['Sex', 'ChestPainType', 'RestingECG', 'ExerciseAngina', 'ST_Slope']])\n",
    "X_encoded = pd.DataFrame(X_encoded, columns=encoder.get_feature_names_out())\n",
    "\n",
    "# Combine encoded features with numerical features\n",
    "X_combined = pd.concat([X[['Age']], X_encoded], axis=1)\n",
    "\n",
    "# Split the dataset into training and testing sets\n",
    "X_train, X_test, y_train, y_test = train_test_split(X_combined, y, test_size=0.2, random_state=42)\n",
    "\n",
    "# Initialize DecisionTreeClassifier\n",
    "decision_tree = DecisionTreeClassifier()\n",
    "\n",
    "# Train the model\n",
    "decision_tree.fit(X_train, y_train)\n",
    "\n",
    "# Predict using the trained model\n",
    "y_pred_tree = decision_tree.predict(X_test)\n",
    "\n",
    "# Output predictions\n",
    "print(y_pred_tree)\n"
   ]
  },
  {
   "cell_type": "markdown",
   "id": "1a04b071-967a-4810-abfe-294c46c483e6",
   "metadata": {},
   "source": [
    "Random Forest "
   ]
  },
  {
   "cell_type": "code",
   "execution_count": 155,
   "id": "88ece8ac-6af0-4d18-82d0-7b7d35c6de7b",
   "metadata": {},
   "outputs": [
    {
     "name": "stdout",
     "output_type": "stream",
     "text": [
      "[0 1 1 1 0 1 1 0 1 1 1 0 1 0 1 0 0 0 1 0 1 1 0 1 1 1 0 0 0 0 1 0 0 1 1 0 1\n",
      " 0 1 1 1 1 0 0 0 0 0 1 1 0 0 0 1 1 0 0 1 1 0 1 0 1 0 1 0 1 1 1 1 1 0 0 0 0\n",
      " 0 1 0 1 0 0 0 1 0 0 1 0 0 0 0 0 0 1 1 0 1 0 1 0 1 0 0 1 1 0 1 1 0 0 1 0 1\n",
      " 1 0 1 1 0 0 0 1 1 1 1 0 1 0 0 0 0 0 0 1 1 1 0 1 0 1 1 0 0 1 0 1 1 1 1 1 0\n",
      " 1 0 0 1 1 0 1 0 0 0 0 1 0 0 1 0 1 1 0 1 0 1 1 1 0 1 0 1 0 1 0 0 1 1 0 1]\n"
     ]
    }
   ],
   "source": [
    "from sklearn.ensemble import RandomForestClassifier\n",
    "from sklearn.preprocessing import OneHotEncoder\n",
    "import pandas as pd\n",
    "from sklearn.model_selection import train_test_split\n",
    "\n",
    "# Load the dataset\n",
    "data = pd.read_csv('heart.csv')\n",
    "\n",
    "# Select features and target variable\n",
    "features = ['Age', 'Sex', 'ChestPainType', 'RestingECG', 'ExerciseAngina', 'ST_Slope']\n",
    "target = 'HeartDisease'\n",
    "\n",
    "# Prepare the features and target\n",
    "X = data[features]\n",
    "y = data[target]\n",
    "\n",
    "# Initialize and fit OneHotEncoder for categorical features\n",
    "encoder = OneHotEncoder(sparse_output=False, drop='first')\n",
    "X_encoded = encoder.fit_transform(X[['Sex', 'ChestPainType', 'RestingECG', 'ExerciseAngina', 'ST_Slope']])\n",
    "X_encoded = pd.DataFrame(X_encoded, columns=encoder.get_feature_names_out())\n",
    "\n",
    "# Combine encoded features with numerical features\n",
    "X_combined = pd.concat([X[['Age']], X_encoded], axis=1)\n",
    "\n",
    "# Split the dataset into training and testing sets\n",
    "X_train, X_test, y_train, y_test = train_test_split(X_combined, y, test_size=0.2, random_state=42)\n",
    "\n",
    "# Initialize RandomForestClassifier\n",
    "rf = RandomForestClassifier()\n",
    "\n",
    "# Train the model\n",
    "rf.fit(X_train, y_train)\n",
    "\n",
    "# Predict using the trained model\n",
    "y_pred_rf = rf.predict(X_test)\n",
    "\n",
    "# Output predictions\n",
    "print(y_pred_rf)\n"
   ]
  },
  {
   "cell_type": "markdown",
   "id": "6303c9cd-4654-448e-a409-a28bc42898d1",
   "metadata": {},
   "source": [
    "Linear Regression "
   ]
  },
  {
   "cell_type": "code",
   "execution_count": 165,
   "id": "e0360895-3ed7-4e6e-ab4a-3a4ea217e69e",
   "metadata": {},
   "outputs": [
    {
     "name": "stdout",
     "output_type": "stream",
     "text": [
      "[-0.01051466  0.58014427  0.86038128  0.98222066  0.12949213  0.86462243\n",
      "  0.81735135  0.21728249  0.60431171  0.90364908  0.64211044  0.18381477\n",
      "  0.66724239  0.13905434  0.80679909  0.31096659  0.02035255  0.72867761\n",
      "  0.73075152  0.45403069  0.69470259  0.7709474   0.08864279  0.77424016\n",
      "  0.99015905  0.94442192  0.10080551  0.57382922  0.07166879  0.02430785\n",
      "  0.79290587  0.30618549  0.58744439  0.93007861  0.71105015  0.41551283\n",
      "  0.97310854  0.12211051  1.02091958  0.75870631  0.86462243  0.6912309\n",
      "  0.59196358  0.14078483  0.00122813  0.56056976  0.75465704  0.98222066\n",
      "  0.79768697  0.36906046  0.11947983  0.03919112  0.77523021  0.9688674\n",
      "  0.51462469  0.1601258   0.39970806  0.84026682  0.60167461  0.84672593\n",
      "  0.16992155  0.17425256 -0.10081568  1.04058395 -0.00482887  0.9736485\n",
      "  1.03526289  0.93007861  1.03580285  0.5995306   0.32648062  0.12689162\n",
      "  0.40613857  0.55405817  0.36833984  0.90617309  0.39756642  0.59284696\n",
      "  0.10757902  0.5241869   0.41570078  0.90942024  0.75078474  0.10558661\n",
      "  0.88930577  0.63810567  0.1443754   0.59689351  0.14705428  0.07908058\n",
      "  0.06870354  0.96354633  0.78001132  0.27144597  0.66732538  0.13427324\n",
      "  0.93007861  0.25120032  0.90572299  0.35594357  0.06309664  0.98267075\n",
      "  0.69728379  0.13645382  0.39224536  0.97310854 -0.07924876  0.35877763\n",
      "  1.00657627  0.26884546  0.80246808  0.99223296  0.14556594  0.3152976\n",
      "  0.97788965  0.09924324  0.34497428  0.16568041  1.01613848  0.62298603\n",
      "  0.9280047   0.59926869  0.10802912  0.99656397  0.12904204  0.07689999\n",
      " -0.01051466  0.36842092  0.09820499  0.43049419  0.3001326   0.95398413\n",
      "  0.77378146  0.22710662  0.99223296  0.17784313  0.8663331   0.54667655\n",
      " -0.13482336  0.44005639  0.39702646  0.25678329  0.97310854  0.58201023\n",
      "  0.79814568  0.88975587  0.74031373  0.01512135  0.39224536  0.38223306\n",
      "  0.08168109  0.81397733  1.03580285 -0.07266901  0.74563479  0.16514045\n",
      "  0.12211051  0.33063097  0.1125483   0.87117141  0.05777557  0.09924324\n",
      "  0.8263736  -0.01257522  0.84549801  0.78812477  0.38800421  0.93756691\n",
      "  0.14123493  0.33360032  0.81257025  0.81203029  0.08386168  0.79007181\n",
      "  0.12949213  1.00233512  0.31150655  1.0348128   0.08386168  0.5629669\n",
      "  0.84266395  1.03580285  0.10558661  1.03580285]\n"
     ]
    }
   ],
   "source": [
    "from sklearn.linear_model import LinearRegression\n",
    "from sklearn.preprocessing import OneHotEncoder\n",
    "import pandas as pd\n",
    "from sklearn.model_selection import train_test_split\n",
    "\n",
    "# Load the dataset\n",
    "data = pd.read_csv('heart.csv')\n",
    "\n",
    "# Select features and target variable\n",
    "features = ['Age', 'Sex', 'ChestPainType', 'RestingECG', 'ExerciseAngina', 'ST_Slope']\n",
    "target = 'HeartDisease'\n",
    "\n",
    "# Prepare the features and target\n",
    "X = data[features]\n",
    "y = data[target]\n",
    "\n",
    "# Initialize and fit OneHotEncoder for categorical features\n",
    "encoder = OneHotEncoder(sparse_output=False, drop='first')\n",
    "X_encoded = encoder.fit_transform(X[['Sex', 'ChestPainType', 'RestingECG', 'ExerciseAngina', 'ST_Slope']])\n",
    "X_encoded = pd.DataFrame(X_encoded, columns=encoder.get_feature_names_out())\n",
    "\n",
    "# Combine encoded features with numerical features\n",
    "X_combined = pd.concat([X[['Age']], X_encoded], axis=1)\n",
    "\n",
    "# Split the dataset into training and testing sets\n",
    "X_train, X_test, y_train, y_test = train_test_split(X_combined, y, test_size=0.2, random_state=42)\n",
    "\n",
    "# Initialize LinearRegression\n",
    "lin_reg = LinearRegression()\n",
    "\n",
    "# Train the model\n",
    "lin_reg.fit(X_train, y_train)\n",
    "\n",
    "# Predict using the trained model\n",
    "y_pred_lr = lin_reg.predict(X_test)\n",
    "\n",
    "# Output predictions\n",
    "print(y_pred_lr)\n"
   ]
  }
 ],
 "metadata": {
  "kernelspec": {
   "display_name": "Python 3 (ipykernel)",
   "language": "python",
   "name": "python3"
  },
  "language_info": {
   "codemirror_mode": {
    "name": "ipython",
    "version": 3
   },
   "file_extension": ".py",
   "mimetype": "text/x-python",
   "name": "python",
   "nbconvert_exporter": "python",
   "pygments_lexer": "ipython3",
   "version": "3.12.4"
  }
 },
 "nbformat": 4,
 "nbformat_minor": 5
}
